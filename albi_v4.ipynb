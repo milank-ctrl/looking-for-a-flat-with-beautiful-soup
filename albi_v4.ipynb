{
 "cells": [
  {
   "cell_type": "code",
   "execution_count": null,
   "metadata": {},
   "outputs": [],
   "source": [
    "from bs4 import BeautifulSoup\n",
    "import time\n",
    "import pandas as pd\n",
    "import requests\n",
    "from user_agent import generate_user_agent\n",
    "import time\n",
    "import datetime"
   ]
  },
  {
   "cell_type": "markdown",
   "metadata": {},
   "source": [
    "# Kilistázom az oldalakról az albik linkjeit"
   ]
  },
  {
   "cell_type": "code",
   "execution_count": null,
   "metadata": {},
   "outputs": [],
   "source": [
    "url1=\"https://www.alberlet.hu/kiado_alberlet/page:\"\n",
    "url2=\"/ingatlan-tipus:lakas/kerulet:i+ii+iii+iv+v+vi+vii+viii+ix+x+xi+xii+xiii+xiv+xv+xvi+xvii+xviii+xix+xx+xxi+xxii+xxiii/megye:budapest/keres:normal/limit:24\"\n",
    "links=[]\n",
    "start_time=time.time()\n",
    "for page in range(1, 120):\n",
    "    try:       \n",
    "        r=requests.get(url1+str(page)+url2, timeout=5)\n",
    "        if r.status_code == 200:\n",
    "            print('Sikeres kapcsolat!')\n",
    "            main_soup=BeautifulSoup(r.content, 'html.parser')\n",
    "\n",
    "            #az oldal tárolja str ként az oldal számot\n",
    "            #ha a linkbe nagyobb számot irok be akkor az oldalon tárolt szám nem változik\n",
    "            #igy meg tudom mondani, hogy az utolsó oldalon vagyok-é\n",
    "            page_nr=main_soup.find('li', {\"class\", \"current\"}).text    \n",
    "\n",
    "            if page_nr == str(page):\n",
    "\n",
    "                list_links=main_soup.find(attrs={'id': 'listing-index'})\n",
    "\n",
    "                #kivesszük a linkeket és megvizsgáljuk\n",
    "                for url in list_links.find_all('a'):\n",
    "                    link=url.get('href')\n",
    "                    if link not in links and \"https://www.alberlet.hu/kiado_alberlet\" in link:\n",
    "                        links.append(link)\n",
    "                        print(link)\n",
    "                #print(\"-\")\n",
    "        else:\n",
    "            continue\n",
    "            print(\"Status code: SHIT!!! \", \"Page:\", page, \"-%s seconds-\" % (time.time() - start_time))\n",
    "    except requests.exceptions.Timeout:\n",
    "        print(\"TimeOutError\")\n",
    "        continue\n",
    "        \n",
    "print(len(links), \"-%s seconds -\"% (time.time() - start_time))"
   ]
  },
  {
   "cell_type": "markdown",
   "metadata": {},
   "source": [
    "# Végig megy a kigyűjtött linkeken"
   ]
  },
  {
   "cell_type": "code",
   "execution_count": null,
   "metadata": {},
   "outputs": [],
   "source": [
    "headers = {'User-Agent': generate_user_agent(device_type=\"desktop\", os=('mac', 'linux'))}\n",
    "albi_lista=[]\n",
    "start_time=time.time()\n",
    "\n",
    "for link in links:      \n",
    "    \n",
    "    try:\n",
    "        r_sub=requests.get(link, timeout=5, headers=headers)\n",
    "        if r_sub.status_code == 200:\n",
    "            soup=BeautifulSoup(r_sub.content, 'html.parser')\n",
    "            cnt=1\n",
    "            key=[]#a táblázatból külön vesszük az oszlop nevet és a tartalmát\n",
    "            val=[]          \n",
    "            try:\n",
    "                rows=soup.find('table', {\"class\", \"profile-table\"}).find_all(\"td\")\n",
    "                for i in range(len(rows)):\n",
    "                    elem=rows[i].text.strip().replace(\"\\n\", \"\").replace(\"Árfigyelés\", \"\").replace(\"Árcsökkenés\", \"\").replace(\"HUF / hó\", \"\").replace(\"HUF\", \"\")\n",
    "                    if cnt%2!=0:\n",
    "                        key.append(elem)\n",
    "                    else:\n",
    "                        val.append(elem)\n",
    "                    cnt+=1\n",
    "                table=dict(zip(key, val))#dict-et csinálunk belőle mert a táblázat tartalma nem ugyan az minden esetben\n",
    "\n",
    "                city=soup.find(\"span\", {\"class\",\"profile__header-item profile__header-address\"}).text.strip().split(\",\")[0]\n",
    "                district=soup.find(\"span\", {\"class\",\"profile__header-item profile__header-address\"}).text.strip().split(\",\")[1]\n",
    "                street=soup.find(\"h1\", {\"class\",\"profile__header-item profile__header-address profile__header-street\"}).text.strip()\n",
    "                table[\"Város\"]=city\n",
    "                table[\"Kerület\"]=district\n",
    "                table[\"Utca\"]=street\n",
    "                table[\"Link\"]=link\n",
    "                \n",
    "                albi_lista.append(table)\n",
    "                print(len(albi_lista), \"-%s seconds-\" % (time.time() - start_time))\n",
    "\n",
    "            except AttributeError:\n",
    "                print(\"AttributeError\")\n",
    "                continue\n",
    "\n",
    "        else:\n",
    "            print(\"Hibás status code\")\n",
    "    except requests.exceptions.Timeout:\n",
    "        print(\"TimeOutError\")\n",
    "        continue\n",
    "\n",
    "        \n",
    "print(len(albi_lista), \"-%s seconds-\" % (time.time() - start_time))\n",
    "\n",
    "\n"
   ]
  },
  {
   "cell_type": "markdown",
   "metadata": {},
   "source": [
    "# DataFrame-é alakitom"
   ]
  },
  {
   "cell_type": "code",
   "execution_count": null,
   "metadata": {},
   "outputs": [],
   "source": [
    "df=pd.DataFrame(data=albi_lista)\n",
    "\n",
    "albi_df=df[['Épület típusa', 'Bérleti díj', 'Kaució', \n",
    "             'Rezsiköltség', 'Közös költség','Méret',\n",
    "             'Szobák száma', 'Különnyíló szoba',\n",
    "             'Berendezés', 'Emelet', 'Lift',\n",
    "             'Kilátás', 'Minimum bérlési idő',\n",
    "             'Beköltözhető', 'Város',\n",
    "             'Kerület', 'Utca', 'Link' , 'Új bérleti díj']]\n",
    "\n",
    "albi_df[\"Kaució\"]=albi_df[\"Kaució\"].str.strip()\n",
    "albi_df[\"Kaució\"]=albi_df[\"Kaució\"].str.strip('\\n')\n",
    "albi_df[\"Kaució\"]=albi_df[\"Kaució\"].str.replace(\" \", \"\")\n",
    "albi_df[\"Kaució\"]= albi_df[\"Kaució\"].fillna(0)\n",
    "albi_df[\"Kaució\"]=albi_df[\"Kaució\"].astype(int)\n",
    "\n",
    "albi_df[\"Bérleti díj\"] = albi_df[\"Bérleti díj\"].fillna(albi_df[\"Új bérleti díj\"])\n",
    "albi_df[\"Bérleti díj\"]=albi_df[\"Bérleti díj\"].str.strip()\n",
    "albi_df[\"Bérleti díj\"]=albi_df[\"Bérleti díj\"].str.strip('\\n')\n",
    "albi_df[\"Bérleti díj\"]=albi_df[\"Bérleti díj\"].str.replace(\" \", \"\")\n",
    "albi_df[\"Bérleti díj\"]=albi_df[\"Bérleti díj\"].astype(int)\n",
    "\n",
    "albi_df[\"Rezsiköltség\"]=albi_df[\"Rezsiköltség\"].str.strip()\n",
    "albi_df[\"Rezsiköltség\"]=albi_df[\"Rezsiköltség\"].str.strip('\\n')\n",
    "albi_df[\"Rezsiköltség\"]=albi_df[\"Rezsiköltség\"].str.replace(\" \", \"\")\n",
    "albi_df[\"Rezsiköltség\"]= albi_df[\"Rezsiköltség\"].fillna(0)\n",
    "albi_df[\"Rezsiköltség\"]=albi_df[\"Rezsiköltség\"].astype(int)\n",
    "\n",
    "albi_df[\"Közös költség\"]=albi_df[\"Közös költség\"].str.strip()\n",
    "albi_df[\"Közös költség\"]=albi_df[\"Közös költség\"].str.strip('\\n')\n",
    "albi_df[\"Közös költség\"]=albi_df[\"Közös költség\"].str.replace(\" \", \"\")\n",
    "albi_df[\"Közös költség\"]=albi_df[\"Közös költség\"].str.replace(\"Nincs\", \"0\")\n",
    "albi_df[\"Közös költség\"]=albi_df[\"Közös költség\"].str.replace(\"Bérletidíjtartalmazza\", \"0\")\n",
    "albi_df[\"Közös költség\"]= albi_df[\"Közös költség\"].fillna(0)\n",
    "albi_df[\"Közös költség\"]=albi_df[\"Közös költség\"].astype(int)\n",
    "\n",
    "albi_df[\"Budapest_lat\"]=\"47,4983815\"\n",
    "albi_df[\"Budapest_long\"]=\"19.0404707\"\n",
    "\n",
    "albi_df[\"Total ktg\"]=albi_df[\"Bérleti díj\"]+albi_df[\"Rezsiköltség\"]+albi_df[\"Közös költség\"]\n",
    "\n",
    "\n",
    "\n",
    "albi_df.sort_values(by='Total ktg', ascending=True)"
   ]
  },
  {
   "cell_type": "markdown",
   "metadata": {},
   "source": [
    "# Import"
   ]
  },
  {
   "cell_type": "code",
   "execution_count": null,
   "metadata": {},
   "outputs": [],
   "source": [
    "date=datetime.datetime.today().strftime('%Y-%m-%d')\n",
    "\n",
    "albi_df.to_csv(\"albi_df\"+date+\".csv\", encoding='utf-8')"
   ]
  },
  {
   "cell_type": "code",
   "execution_count": null,
   "metadata": {},
   "outputs": [],
   "source": [
    "albi_df.to_excel(\"albi_df\"+date+\".xlsx\")"
   ]
  },
  {
   "cell_type": "code",
   "execution_count": null,
   "metadata": {},
   "outputs": [],
   "source": []
  }
 ],
 "metadata": {
  "kernelspec": {
   "display_name": "Python 3",
   "language": "python",
   "name": "python3"
  },
  "language_info": {
   "codemirror_mode": {
    "name": "ipython",
    "version": 3
   },
   "file_extension": ".py",
   "mimetype": "text/x-python",
   "name": "python",
   "nbconvert_exporter": "python",
   "pygments_lexer": "ipython3",
   "version": "3.6.9"
  }
 },
 "nbformat": 4,
 "nbformat_minor": 2
}
